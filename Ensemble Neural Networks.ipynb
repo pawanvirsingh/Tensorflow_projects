{
 "cells": [
  {
   "cell_type": "code",
   "execution_count": 1,
   "metadata": {
    "collapsed": true
   },
   "outputs": [],
   "source": [
    "%matplotlib inline\n",
    "import matplotlib.pyplot as plt\n",
    "import tensorflow as tf\n",
    "import numpy as np\n",
    "from sklearn.metrics import confusion_matrix\n",
    "import time\n",
    "from datetime import timedelta\n",
    "import math\n",
    "import os\n",
    "import prettytensor as pt"
   ]
  },
  {
   "cell_type": "code",
   "execution_count": 2,
   "metadata": {
    "collapsed": false
   },
   "outputs": [
    {
     "data": {
      "text/plain": [
       "'0.7.4'"
      ]
     },
     "execution_count": 2,
     "metadata": {},
     "output_type": "execute_result"
    }
   ],
   "source": [
    "pt.__version__"
   ]
  },
  {
   "cell_type": "code",
   "execution_count": 3,
   "metadata": {
    "collapsed": false
   },
   "outputs": [
    {
     "name": "stdout",
     "output_type": "stream",
     "text": [
      "Extracting data/MNIST/train-images-idx3-ubyte.gz\n",
      "Extracting data/MNIST/train-labels-idx1-ubyte.gz\n",
      "Extracting data/MNIST/t10k-images-idx3-ubyte.gz\n",
      "Extracting data/MNIST/t10k-labels-idx1-ubyte.gz\n"
     ]
    }
   ],
   "source": [
    "from tensorflow.examples.tutorials.mnist import input_data\n",
    "data = input_data.read_data_sets('data/MNIST/', one_hot=True)"
   ]
  },
  {
   "cell_type": "code",
   "execution_count": 4,
   "metadata": {
    "collapsed": true
   },
   "outputs": [],
   "source": [
    "data.test.cls = np.argmax(data.test.labels, axis=1)\n",
    "data.validation.cls = np.argmax(data.validation.labels, axis=1)"
   ]
  },
  {
   "cell_type": "code",
   "execution_count": 5,
   "metadata": {
    "collapsed": true
   },
   "outputs": [],
   "source": [
    "combined_images = np.concatenate([data.train.images, data.validation.images], axis=0)\n",
    "combined_labels = np.concatenate([data.train.labels, data.validation.labels], axis=0)"
   ]
  },
  {
   "cell_type": "code",
   "execution_count": 6,
   "metadata": {
    "collapsed": false
   },
   "outputs": [
    {
     "name": "stdout",
     "output_type": "stream",
     "text": [
      "(60000, 784)\n",
      "(60000, 10)\n"
     ]
    }
   ],
   "source": [
    "print(combined_images.shape)\n",
    "print(combined_labels.shape)"
   ]
  },
  {
   "cell_type": "code",
   "execution_count": 7,
   "metadata": {
    "collapsed": false
   },
   "outputs": [
    {
     "data": {
      "text/plain": [
       "60000"
      ]
     },
     "execution_count": 7,
     "metadata": {},
     "output_type": "execute_result"
    }
   ],
   "source": [
    "combined_size = len(combined_images)\n",
    "combined_size"
   ]
  },
  {
   "cell_type": "code",
   "execution_count": 8,
   "metadata": {
    "collapsed": false
   },
   "outputs": [
    {
     "data": {
      "text/plain": [
       "30000"
      ]
     },
     "execution_count": 8,
     "metadata": {},
     "output_type": "execute_result"
    }
   ],
   "source": [
    "train_size = int(0.5 * combined_size)\n",
    "train_size"
   ]
  },
  {
   "cell_type": "code",
   "execution_count": 9,
   "metadata": {
    "collapsed": false
   },
   "outputs": [
    {
     "data": {
      "text/plain": [
       "30000"
      ]
     },
     "execution_count": 9,
     "metadata": {},
     "output_type": "execute_result"
    }
   ],
   "source": [
    "validation_size = combined_size - train_size\n",
    "validation_size"
   ]
  },
  {
   "cell_type": "code",
   "execution_count": 10,
   "metadata": {
    "collapsed": true
   },
   "outputs": [],
   "source": [
    "#defining random training set\n",
    "def random_training_set():\n",
    "    idx=np.random.permutation(combined_size)\n",
    "    idx_train=idx[0:train_size]\n",
    "    idx_validation=idx[train_size:]\n",
    "    x_train=combined_images[idx_train, :]\n",
    "    y_train=combined_labels[idx_train, :]\n",
    "    x_validation=combined_images[idx_validation, :]\n",
    "    y_validation=combined_labels[idx_validation, :]\n",
    "    return x_train,y_train,x_validation,y_validation"
   ]
  },
  {
   "cell_type": "code",
   "execution_count": 11,
   "metadata": {
    "collapsed": true
   },
   "outputs": [],
   "source": [
    "img_size = 28\n",
    "img_size_flat = img_size * img_size\n",
    "img_shape = (img_size, img_size)\n",
    "num_channels = 1\n",
    "num_classes = 10"
   ]
  },
  {
   "cell_type": "code",
   "execution_count": 95,
   "metadata": {
    "collapsed": true
   },
   "outputs": [],
   "source": [
    "def plot_images(images,                  # Images to plot, 2-d array.\n",
    "                cls_true,                # True class-no for images.\n",
    "                ensemble_cls_pred=None,  # Ensemble predicted class-no.\n",
    "                best_cls_pred=None):     # Best-net predicted class-no.\n",
    "\n",
    "    assert len(images) == len(cls_true)\n",
    "    \n",
    "    # Create figure with 3x3 sub-plots.\n",
    "    fig, axes = plt.subplots(3, 3)\n",
    "\n",
    "    # Adjust vertical spacing if we need to print ensemble and best-net.\n",
    "    if ensemble_cls_pred is None:\n",
    "        hspace = 0.3\n",
    "    else:\n",
    "        hspace = 1.0\n",
    "    fig.subplots_adjust(hspace=hspace, wspace=0.3)\n",
    "\n",
    "    # For each of the sub-plots.\n",
    "    for i, ax in enumerate(axes.flat):\n",
    "\n",
    "        # There may not be enough images for all sub-plots.\n",
    "        if i < len(images):\n",
    "            # Plot image.\n",
    "            ax.imshow(images[i].reshape(img_shape), cmap='binary')\n",
    "\n",
    "            # Show true and predicted classes.\n",
    "            if ensemble_cls_pred is None:\n",
    "                xlabel = \"True: {0}\".format(cls_true[i])\n",
    "            else:\n",
    "                msg = \"True: {0}\\nEnsemble: {1}\\nBest Net: {2}\"\n",
    "                xlabel = msg.format(cls_true[i],\n",
    "                                    ensemble_cls_pred[i],\n",
    "                                    best_cls_pred[i])\n",
    "\n",
    "            # Show the classes as the label on the x-axis.\n",
    "            ax.set_xlabel(xlabel)\n",
    "        \n",
    "        # Remove ticks from the plot.\n",
    "        ax.set_xticks([])\n",
    "        ax.set_yticks([])\n",
    "    \n",
    "    # Ensure the plot is shown correctly with multiple plots\n",
    "    # in a single Notebook cell.\n",
    "    plt.show()"
   ]
  },
  {
   "cell_type": "code",
   "execution_count": 96,
   "metadata": {
    "collapsed": false
   },
   "outputs": [
    {
     "data": {
      "image/png": "[encoded data removed]",
      "text/plain": [
       "<matplotlib.figure.Figure at 0x7fe33fbb9198>"
      ]
     },
     "metadata": {},
     "output_type": "display_data"
    }
   ],
   "source": [
    "images = data.test.images[0:9]\n",
    "\n",
    "cls_true = data.test.cls[0:9]\n",
    "\n",
    "plot_images(images=images, cls_true=cls_true)"
   ]
  },
  {
   "cell_type": "code",
   "execution_count": 14,
   "metadata": {
    "collapsed": true
   },
   "outputs": [],
   "source": [
    "x = tf.placeholder(tf.float32, shape=[None, img_size_flat], name='x')\n",
    "x_image = tf.reshape(x, [-1, img_size, img_size, num_channels])\n",
    "y_true = tf.placeholder(tf.float32, shape=[None, 10], name='y_true')\n",
    "y_true_cls = tf.argmax(y_true, dimension=1)"
   ]
  },
  {
   "cell_type": "markdown",
   "metadata": {},
   "source": [
    "## NN with PT"
   ]
  },
  {
   "cell_type": "code",
   "execution_count": 15,
   "metadata": {
    "collapsed": true
   },
   "outputs": [],
   "source": [
    "x_pt=pt.wrap(x_image)"
   ]
  },
  {
   "cell_type": "code",
   "execution_count": 16,
   "metadata": {
    "collapsed": true
   },
   "outputs": [],
   "source": [
    "with pt.defaults_scope(activation_fn=tf.nn.relu):\n",
    "    y_pred, loss= x_pt.\\\n",
    "        conv2d(kernel=5,depth=16,name=\"layer_1\").\\\n",
    "        max_pool(kernel=2, stride=2).\\\n",
    "        conv2d(kernel=5,depth=36,name=\"layer_2\").\\\n",
    "        max_pool(kernel=2, stride=2).\\\n",
    "        flatten().\\\n",
    "        fully_connected(size=128, name='layer_fc1').\\\n",
    "        softmax_classifier(num_classes=num_classes, labels=y_true)\n"
   ]
  },
  {
   "cell_type": "code",
   "execution_count": 17,
   "metadata": {
    "collapsed": true
   },
   "outputs": [],
   "source": [
    "optimizer = tf.train.AdamOptimizer(learning_rate=1e-4).minimize(loss)\n",
    "y_pred_cls = tf.argmax(y_pred, dimension=1)\n",
    "correct_prediction = tf.equal(y_pred_cls, y_true_cls)\n",
    "accuracy = tf.reduce_mean(tf.cast(correct_prediction, tf.float32))\n",
    "saver = tf.train.Saver(max_to_keep=100)\n",
    "save_dir = 'checkpoints/'\n",
    "if not os.path.exists(save_dir):\n",
    "    os.makedirs(save_dir)\n",
    "def get_save_path(net_number):\n",
    "    return save_dir + 'network' + str(net_number)"
   ]
  },
  {
   "cell_type": "code",
   "execution_count": 18,
   "metadata": {
    "collapsed": true
   },
   "outputs": [],
   "source": [
    "session=tf.Session()"
   ]
  },
  {
   "cell_type": "code",
   "execution_count": 19,
   "metadata": {
    "collapsed": true
   },
   "outputs": [],
   "source": [
    "def init_variables():\n",
    "    session.run(tf.initialize_all_variables())"
   ]
  },
  {
   "cell_type": "code",
   "execution_count": 20,
   "metadata": {
    "collapsed": true
   },
   "outputs": [],
   "source": [
    "tbs=64 #train batch size"
   ]
  },
  {
   "cell_type": "code",
   "execution_count": 21,
   "metadata": {
    "collapsed": true
   },
   "outputs": [],
   "source": [
    "def random_batch(x_train, y_train):\n",
    "    num_images=len(x_train)\n",
    "    idx=np.random.choice(num_images,size=tbs,replace=False)\n",
    "    x_batch=x_train[idx, :]\n",
    "    y_batch=y_train[idx, :]\n",
    "    return x_batch, y_batch"
   ]
  },
  {
   "cell_type": "code",
   "execution_count": 22,
   "metadata": {
    "collapsed": true
   },
   "outputs": [],
   "source": [
    "def optimize(num_iterations, x_train, y_train):\n",
    "    start_time = time.time()\n",
    "\n",
    "    for i in range(num_iterations):\n",
    "\n",
    "        x_batch, y_true_batch = random_batch(x_train, y_train)\n",
    "\n",
    "\n",
    "        feed_dict_train = {x: x_batch,\n",
    "                           y_true: y_true_batch}\n",
    "\n",
    "        session.run(optimizer, feed_dict=feed_dict_train)\n",
    "\n",
    "        if i % 100 == 0:\n",
    "            acc = session.run(accuracy, feed_dict=feed_dict_train)\n",
    "            \n",
    "            msg = \"Optimization Iteration: {0:>6}, Training Batch Accuracy: {1:>6.1%}\"\n",
    "\n",
    "            print(msg.format(i + 1, acc))\n",
    "\n",
    "    end_time = time.time()\n",
    "\n",
    "    time_dif = end_time - start_time\n",
    "\n",
    "    print(\"Time usage: \" + str(timedelta(seconds=int(round(time_dif)))))"
   ]
  },
  {
   "cell_type": "code",
   "execution_count": 23,
   "metadata": {
    "collapsed": true
   },
   "outputs": [],
   "source": [
    "n=5\n",
    "ni=1000"
   ]
  },
  {
   "cell_type": "code",
   "execution_count": 24,
   "metadata": {
    "collapsed": false
   },
   "outputs": [
    {
     "name": "stdout",
     "output_type": "stream",
     "text": [
      "NN: 0\n",
      "Optimization Iteration:      1, Training Batch Accuracy:  12.5%\n",
      "Optimization Iteration:    101, Training Batch Accuracy:  79.7%\n",
      "Optimization Iteration:    201, Training Batch Accuracy:  90.6%\n",
      "Optimization Iteration:    301, Training Batch Accuracy:  90.6%\n",
      "Optimization Iteration:    401, Training Batch Accuracy:  96.9%\n",
      "Optimization Iteration:    501, Training Batch Accuracy:  93.8%\n",
      "Optimization Iteration:    601, Training Batch Accuracy:  95.3%\n",
      "Optimization Iteration:    701, Training Batch Accuracy:  96.9%\n",
      "Optimization Iteration:    801, Training Batch Accuracy:  93.8%\n",
      "Optimization Iteration:    901, Training Batch Accuracy:  96.9%\n",
      "Time usage: 0:02:19\n",
      "\n",
      "NN: 1\n",
      "Optimization Iteration:      1, Training Batch Accuracy:   4.7%\n",
      "Optimization Iteration:    101, Training Batch Accuracy:  82.8%\n",
      "Optimization Iteration:    201, Training Batch Accuracy:  89.1%\n",
      "Optimization Iteration:    301, Training Batch Accuracy:  92.2%\n",
      "Optimization Iteration:    401, Training Batch Accuracy:  96.9%\n",
      "Optimization Iteration:    501, Training Batch Accuracy:  98.4%\n",
      "Optimization Iteration:    601, Training Batch Accuracy:  92.2%\n",
      "Optimization Iteration:    701, Training Batch Accuracy:  98.4%\n",
      "Optimization Iteration:    801, Training Batch Accuracy:  95.3%\n",
      "Optimization Iteration:    901, Training Batch Accuracy:  96.9%\n",
      "Time usage: 0:02:12\n",
      "\n",
      "NN: 2\n",
      "Optimization Iteration:      1, Training Batch Accuracy:   6.2%\n",
      "Optimization Iteration:    101, Training Batch Accuracy:  85.9%\n",
      "Optimization Iteration:    201, Training Batch Accuracy:  90.6%\n",
      "Optimization Iteration:    301, Training Batch Accuracy:  89.1%\n",
      "Optimization Iteration:    401, Training Batch Accuracy: 100.0%\n",
      "Optimization Iteration:    501, Training Batch Accuracy: 100.0%\n",
      "Optimization Iteration:    601, Training Batch Accuracy:  95.3%\n",
      "Optimization Iteration:    701, Training Batch Accuracy:  95.3%\n",
      "Optimization Iteration:    801, Training Batch Accuracy: 100.0%\n",
      "Optimization Iteration:    901, Training Batch Accuracy:  93.8%\n",
      "Time usage: 0:02:06\n",
      "\n",
      "NN: 3\n",
      "Optimization Iteration:      1, Training Batch Accuracy:  10.9%\n",
      "Optimization Iteration:    101, Training Batch Accuracy:  76.6%\n",
      "Optimization Iteration:    201, Training Batch Accuracy:  96.9%\n",
      "Optimization Iteration:    301, Training Batch Accuracy:  90.6%\n",
      "Optimization Iteration:    401, Training Batch Accuracy:  90.6%\n",
      "Optimization Iteration:    501, Training Batch Accuracy:  95.3%\n",
      "Optimization Iteration:    601, Training Batch Accuracy:  96.9%\n",
      "Optimization Iteration:    701, Training Batch Accuracy:  95.3%\n",
      "Optimization Iteration:    801, Training Batch Accuracy:  96.9%\n",
      "Optimization Iteration:    901, Training Batch Accuracy:  95.3%\n",
      "Time usage: 0:02:04\n",
      "\n",
      "NN: 4\n",
      "Optimization Iteration:      1, Training Batch Accuracy:   3.1%\n",
      "Optimization Iteration:    101, Training Batch Accuracy:  81.2%\n",
      "Optimization Iteration:    201, Training Batch Accuracy:  87.5%\n",
      "Optimization Iteration:    301, Training Batch Accuracy:  92.2%\n",
      "Optimization Iteration:    401, Training Batch Accuracy:  96.9%\n",
      "Optimization Iteration:    501, Training Batch Accuracy:  93.8%\n",
      "Optimization Iteration:    601, Training Batch Accuracy: 100.0%\n",
      "Optimization Iteration:    701, Training Batch Accuracy:  89.1%\n",
      "Optimization Iteration:    801, Training Batch Accuracy:  96.9%\n",
      "Optimization Iteration:    901, Training Batch Accuracy: 100.0%\n",
      "Time usage: 0:02:06\n",
      "\n"
     ]
    }
   ],
   "source": [
    "if True:\n",
    "    for i in range(n):\n",
    "        print(\"NN: {0}\".format(i))\n",
    "        x_train,y_train, _, _=random_training_set()\n",
    "        session.run(tf.global_variables_initializer())\n",
    "        optimize(num_iterations=ni,\n",
    "                x_train=x_train,\n",
    "                y_train=y_train)\n",
    "        saver.save(sess=session, save_path=get_save_path(i))\n",
    "        print()"
   ]
  },
  {
   "cell_type": "markdown",
   "metadata": {
    "collapsed": false
   },
   "source": [
    "batch_size=256\n",
    "def predict_labels(images):\n",
    "    num_images=len(images)\n",
    "    pred_labels = np.zeros(shape=(num_images, num_classes),\n",
    "                           dtype=np.float)\n",
    "    i=0\n",
    "    while i<num_images:\n",
    "        j=min(i+batch_size, num_images)\n",
    "        feed_dict={x:images[i:j, :]}\n",
    "        pred_labels[i:j]=session.run(y_pred,feed_dict=feed_dict)\n",
    "        i=j\n",
    "    return pred_labels\n"
   ]
  },
  {
   "cell_type": "code",
   "execution_count": 26,
   "metadata": {
    "collapsed": true
   },
   "outputs": [],
   "source": [
    "def correct_prediction(images,labels,cls_true):\n",
    "    pred_labels=predict_labels(images=images)\n",
    "    cls_pred=np.argmax(pred_labels, axis=1)\n",
    "    correct=(cls_true==cls_pred)\n",
    "    return correct"
   ]
  },
  {
   "cell_type": "code",
   "execution_count": 27,
   "metadata": {
    "collapsed": true
   },
   "outputs": [],
   "source": [
    "def test_correct():\n",
    "    return correct_prediction(images=data.test.images,\n",
    "                             labels=data.test.labels,\n",
    "                             cls_true=data.test.cls)\n",
    "def validation_correct():\n",
    "    return correct_prediction(images=data.validation.images,\n",
    "                             labels=data.validation.labels,\n",
    "                             cls_true=data.validation.cls)\n"
   ]
  },
  {
   "cell_type": "code",
   "execution_count": 35,
   "metadata": {
    "collapsed": true
   },
   "outputs": [],
   "source": [
    "def classification_accuracy(correct):\n",
    "    return correct.mean()\n",
    "def validation_accuracy():\n",
    "    correct=validation_correct()\n",
    "    return classification_accuracy(correct)\n",
    "def test_accuracy():\n",
    "    correct = test_correct()\n",
    "    return classification_accuracy(correct)\n",
    "\n",
    "def ensemble_predictions():\n",
    "    pred_labels = []\n",
    "\n",
    "    test_accuracies = []\n",
    "    # Classification accuracy on the validation-set for each network.\n",
    "    val_accuracies = []\n",
    "\n",
    "    # For each neural network in the ensemble.\n",
    "    for i in range(n):\n",
    "        # Reload the variables into the TensorFlow graph.\n",
    "        saver.restore(sess=session, save_path=get_save_path(i))\n",
    "\n",
    "        # Calculate the classification accuracy on the test-set.\n",
    "        test_acc = test_accuracy()\n",
    "\n",
    "        # Append the classification accuracy to the list.\n",
    "        test_accuracies.append(test_acc)\n",
    "\n",
    "        # Calculate the classification accuracy on the validation-set.\n",
    "        val_acc = validation_accuracy()\n",
    "\n",
    "        # Append the classification accuracy to the list.\n",
    "        val_accuracies.append(val_acc)\n",
    "\n",
    "        # Print status message.\n",
    "        msg = \"Network: {0}, Accuracy on Validation-Set: {1:.4f}, Test-Set: {2:.4f}\"\n",
    "        print(msg.format(i, val_acc, test_acc))\n",
    "\n",
    "        # Calculate the predicted labels for the images in the test-set.\n",
    "        # This is already calculated in test_accuracy() above but\n",
    "        # it is re-calculated here to keep the code a bit simpler.\n",
    "        pred = predict_labels(images=data.test.images)\n",
    "\n",
    "        # Append the predicted labels to the list.\n",
    "        pred_labels.append(pred)\n",
    "    \n",
    "    return np.array(pred_labels), \\\n",
    "           np.array(test_accuracies), \\\n",
    "           np.array(val_accuracies)"
   ]
  },
  {
   "cell_type": "code",
   "execution_count": 37,
   "metadata": {
    "collapsed": false
   },
   "outputs": [
    {
     "name": "stdout",
     "output_type": "stream",
     "text": [
      "Network: 0, Accuracy on Validation-Set: 0.9712, Test-Set: 0.9660\n",
      "Network: 1, Accuracy on Validation-Set: 0.9720, Test-Set: 0.9699\n",
      "Network: 2, Accuracy on Validation-Set: 0.9692, Test-Set: 0.9681\n",
      "Network: 3, Accuracy on Validation-Set: 0.9690, Test-Set: 0.9665\n",
      "Network: 4, Accuracy on Validation-Set: 0.9684, Test-Set: 0.9666\n"
     ]
    }
   ],
   "source": [
    "pred_labels, test_accuracies, val_accuracies = ensemble_predictions()"
   ]
  },
  {
   "cell_type": "code",
   "execution_count": 38,
   "metadata": {
    "collapsed": false
   },
   "outputs": [
    {
     "name": "stdout",
     "output_type": "stream",
     "text": [
      "Mean test-set accuracy: 0.9674\n",
      "Min test-set accuracy:  0.9660\n",
      "Max test-set accuracy:  0.9699\n"
     ]
    }
   ],
   "source": [
    "print(\"Mean test-set accuracy: {0:.4f}\".format(np.mean(test_accuracies)))\n",
    "print(\"Min test-set accuracy:  {0:.4f}\".format(np.min(test_accuracies)))\n",
    "print(\"Max test-set accuracy:  {0:.4f}\".format(np.max(test_accuracies)))"
   ]
  },
  {
   "cell_type": "code",
   "execution_count": 33,
   "metadata": {
    "collapsed": false
   },
   "outputs": [
    {
     "data": {
      "text/plain": [
       "(1, 10000, 10)"
      ]
     },
     "execution_count": 33,
     "metadata": {},
     "output_type": "execute_result"
    }
   ],
   "source": [
    "pred_labels.shape\n"
   ]
  },
  {
   "cell_type": "code",
   "execution_count": 32,
   "metadata": {
    "collapsed": false
   },
   "outputs": [
    {
     "data": {
      "text/plain": [
       "(10000, 10)"
      ]
     },
     "execution_count": 32,
     "metadata": {},
     "output_type": "execute_result"
    }
   ],
   "source": [
    "ensemble_pred_labels = np.mean(pred_labels, axis=0)\n",
    "ensemble_pred_labels.shape"
   ]
  },
  {
   "cell_type": "code",
   "execution_count": 70,
   "metadata": {
    "collapsed": false
   },
   "outputs": [],
   "source": [
    "ensemble_cls_pred = np.argmax(ensemble_pred_labels, axis=1)\n",
    "ensemble_cls_pred.shape\n",
    "ensemble_correct = (ensemble_cls_pred == data.test.cls)\n",
    "ensemble_incorrect = np.logical_not(ensemble_correct)"
   ]
  },
  {
   "cell_type": "code",
   "execution_count": 71,
   "metadata": {
    "collapsed": false
   },
   "outputs": [
    {
     "data": {
      "text/plain": [
       "array([ 0.966 ,  0.9699,  0.9681,  0.9665,  0.9666])"
      ]
     },
     "execution_count": 71,
     "metadata": {},
     "output_type": "execute_result"
    }
   ],
   "source": [
    "test_accuracies"
   ]
  },
  {
   "cell_type": "raw",
   "metadata": {},
   "source": []
  },
  {
   "cell_type": "code",
   "execution_count": 72,
   "metadata": {
    "collapsed": false
   },
   "outputs": [],
   "source": [
    "best_net=np.argmax(test_accuracies)"
   ]
  },
  {
   "cell_type": "code",
   "execution_count": 73,
   "metadata": {
    "collapsed": false
   },
   "outputs": [
    {
     "data": {
      "text/plain": [
       "1"
      ]
     },
     "execution_count": 73,
     "metadata": {},
     "output_type": "execute_result"
    }
   ],
   "source": [
    "best_net"
   ]
  },
  {
   "cell_type": "code",
   "execution_count": 74,
   "metadata": {
    "collapsed": false
   },
   "outputs": [
    {
     "data": {
      "text/plain": [
       "0.96989999999999998"
      ]
     },
     "execution_count": 74,
     "metadata": {},
     "output_type": "execute_result"
    }
   ],
   "source": [
    "test_accuracies[best_net]"
   ]
  },
  {
   "cell_type": "code",
   "execution_count": 75,
   "metadata": {
    "collapsed": false
   },
   "outputs": [],
   "source": [
    "bnpl= pred_labels[best_net, :, :]"
   ]
  },
  {
   "cell_type": "code",
   "execution_count": 76,
   "metadata": {
    "collapsed": true
   },
   "outputs": [],
   "source": [
    "bncp=np.argmax(bnpl,axis=1)"
   ]
  },
  {
   "cell_type": "code",
   "execution_count": 77,
   "metadata": {
    "collapsed": false
   },
   "outputs": [],
   "source": [
    "bnc=(bncp==data.test.cls)"
   ]
  },
  {
   "cell_type": "code",
   "execution_count": 78,
   "metadata": {
    "collapsed": true
   },
   "outputs": [],
   "source": [
    "bnic=np.logical_not(bnc)"
   ]
  },
  {
   "cell_type": "code",
   "execution_count": 79,
   "metadata": {
    "collapsed": false
   },
   "outputs": [
    {
     "data": {
      "text/plain": [
       "9660"
      ]
     },
     "execution_count": 79,
     "metadata": {},
     "output_type": "execute_result"
    }
   ],
   "source": [
    "np.sum(ensemble_correct)"
   ]
  },
  {
   "cell_type": "code",
   "execution_count": 80,
   "metadata": {
    "collapsed": false
   },
   "outputs": [
    {
     "data": {
      "text/plain": [
       "9699"
      ]
     },
     "execution_count": 80,
     "metadata": {},
     "output_type": "execute_result"
    }
   ],
   "source": [
    "np.sum(bnc)"
   ]
  },
  {
   "cell_type": "code",
   "execution_count": 81,
   "metadata": {
    "collapsed": false
   },
   "outputs": [],
   "source": [
    "enb=np.logical_and(bnic, ensemble_correct)"
   ]
  },
  {
   "cell_type": "code",
   "execution_count": 82,
   "metadata": {
    "collapsed": false
   },
   "outputs": [
    {
     "data": {
      "text/plain": [
       "87"
      ]
     },
     "execution_count": 82,
     "metadata": {},
     "output_type": "execute_result"
    }
   ],
   "source": [
    "enb.sum()"
   ]
  },
  {
   "cell_type": "code",
   "execution_count": 83,
   "metadata": {
    "collapsed": true
   },
   "outputs": [],
   "source": [
    "bnb=np.logical_and(bnc, ensemble_incorrect)"
   ]
  },
  {
   "cell_type": "code",
   "execution_count": 84,
   "metadata": {
    "collapsed": false
   },
   "outputs": [
    {
     "data": {
      "text/plain": [
       "126"
      ]
     },
     "execution_count": 84,
     "metadata": {},
     "output_type": "execute_result"
    }
   ],
   "source": [
    "bnb.sum()\n"
   ]
  },
  {
   "cell_type": "markdown",
   "metadata": {},
   "source": [
    "## though the best_net is better than ensemble right now but of i would've increased the number of iterations then the ensemble would've been better"
   ]
  },
  {
   "cell_type": "code",
   "execution_count": 90,
   "metadata": {
    "collapsed": true
   },
   "outputs": [],
   "source": [
    "def pic(idx):\n",
    "    plot_images(images=data.test.images[idx, :],\n",
    "                cls_true=data.test.cls[idx],\n",
    "                ensemble_cls_pred=ensemble_cls_pred[idx],\n",
    "                best_cls_pred=bncp[idx])"
   ]
  },
  {
   "cell_type": "code",
   "execution_count": 91,
   "metadata": {
    "collapsed": true
   },
   "outputs": [],
   "source": [
    "def print_labels(labels, idx, num=1):\n",
    "    labels=labels[idx, :]\n",
    "    labels=labels[0:num, :]\n",
    "    labels_rounded=np.round(labels,2)\n",
    "    print(labels_rounded)"
   ]
  },
  {
   "cell_type": "code",
   "execution_count": 92,
   "metadata": {
    "collapsed": false
   },
   "outputs": [],
   "source": [
    "def ple(idx, **kwargs):\n",
    "    print_labels(labels=bnpl,idx=idx, **kwargs)"
   ]
  },
  {
   "cell_type": "code",
   "execution_count": 93,
   "metadata": {
    "collapsed": true
   },
   "outputs": [],
   "source": [
    "def pln(idx):\n",
    "    for i in range(nu):\n",
    "        print_labels(labels=pred_labels[i, :, :], idx=idx, num=1)"
   ]
  },
  {
   "cell_type": "code",
   "execution_count": 97,
   "metadata": {
    "collapsed": false
   },
   "outputs": [
    {
     "data": {
      "image/png": "[encoded data removed]",
      "text/plain": [
       "<matplotlib.figure.Figure at 0x7fe33fbb9550>"
      ]
     },
     "metadata": {},
     "output_type": "display_data"
    }
   ],
   "source": [
    "pic(idx=enb)"
   ]
  },
  {
   "cell_type": "code",
   "execution_count": 98,
   "metadata": {
    "collapsed": false
   },
   "outputs": [
    {
     "data": {
      "image/png": "[encoded data removed]",
      "text/plain": [
       "<matplotlib.figure.Figure at 0x7fe31c9773c8>"
      ]
     },
     "metadata": {},
     "output_type": "display_data"
    }
   ],
   "source": [
    "pic(idx=bnb)"
   ]
  },
  {
   "cell_type": "code",
   "execution_count": 100,
   "metadata": {
    "collapsed": false
   },
   "outputs": [],
   "source": [
    "session.close()"
   ]
  },
  {
   "cell_type": "code",
   "execution_count": null,
   "metadata": {
    "collapsed": true
   },
   "outputs": [],
   "source": []
  }
 ],
 "metadata": {
  "kernelspec": {
   "display_name": "Python 3",
   "language": "python",
   "name": "python3"
  },
  "language_info": {
   "codemirror_mode": {
    "name": "ipython",
    "version": 3
   },
   "file_extension": ".py",
   "mimetype": "text/x-python",
   "name": "python",
   "nbconvert_exporter": "python",
   "pygments_lexer": "ipython3",
   "version": "3.6.0"
  }
 },
 "nbformat": 4,
 "nbformat_minor": 2
}
